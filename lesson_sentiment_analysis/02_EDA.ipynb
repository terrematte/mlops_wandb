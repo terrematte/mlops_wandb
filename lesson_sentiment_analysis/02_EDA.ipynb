{
  "nbformat": 4,
  "nbformat_minor": 0,
  "metadata": {
    "colab": {
      "provenance": []
    },
    "kernelspec": {
      "name": "python3",
      "display_name": "Python 3"
    },
    "language_info": {
      "name": "python"
    },
    "widgets": {
      "application/vnd.jupyter.widget-state+json": {
        "af640286eec14a919218e82a567c1ce1": {
          "model_module": "@jupyter-widgets/controls",
          "model_name": "VBoxModel",
          "model_module_version": "1.5.0",
          "state": {
            "_dom_classes": [],
            "_model_module": "@jupyter-widgets/controls",
            "_model_module_version": "1.5.0",
            "_model_name": "VBoxModel",
            "_view_count": null,
            "_view_module": "@jupyter-widgets/controls",
            "_view_module_version": "1.5.0",
            "_view_name": "VBoxView",
            "box_style": "",
            "children": [
              "IPY_MODEL_68805d0d3b404ef0984a5fbf096ad02f",
              "IPY_MODEL_72ec74beb9094b7983dc5a7b918e1854"
            ],
            "layout": "IPY_MODEL_4930b2ddbfd040d280a0e2a66b92047f"
          }
        },
        "68805d0d3b404ef0984a5fbf096ad02f": {
          "model_module": "@jupyter-widgets/controls",
          "model_name": "LabelModel",
          "model_module_version": "1.5.0",
          "state": {
            "_dom_classes": [],
            "_model_module": "@jupyter-widgets/controls",
            "_model_module_version": "1.5.0",
            "_model_name": "LabelModel",
            "_view_count": null,
            "_view_module": "@jupyter-widgets/controls",
            "_view_module_version": "1.5.0",
            "_view_name": "LabelView",
            "description": "",
            "description_tooltip": null,
            "layout": "IPY_MODEL_1d62121faa7641138eac14a1ee0d8dcf",
            "placeholder": "​",
            "style": "IPY_MODEL_767c66747348436b93dd68be458f514b",
            "value": "0.171 MB of 0.171 MB uploaded\r"
          }
        },
        "72ec74beb9094b7983dc5a7b918e1854": {
          "model_module": "@jupyter-widgets/controls",
          "model_name": "FloatProgressModel",
          "model_module_version": "1.5.0",
          "state": {
            "_dom_classes": [],
            "_model_module": "@jupyter-widgets/controls",
            "_model_module_version": "1.5.0",
            "_model_name": "FloatProgressModel",
            "_view_count": null,
            "_view_module": "@jupyter-widgets/controls",
            "_view_module_version": "1.5.0",
            "_view_name": "ProgressView",
            "bar_style": "",
            "description": "",
            "description_tooltip": null,
            "layout": "IPY_MODEL_e0f534b5c3f545528133d533840f7351",
            "max": 1,
            "min": 0,
            "orientation": "horizontal",
            "style": "IPY_MODEL_42619a0968be46189df2f4da623d89e0",
            "value": 1
          }
        },
        "4930b2ddbfd040d280a0e2a66b92047f": {
          "model_module": "@jupyter-widgets/base",
          "model_name": "LayoutModel",
          "model_module_version": "1.2.0",
          "state": {
            "_model_module": "@jupyter-widgets/base",
            "_model_module_version": "1.2.0",
            "_model_name": "LayoutModel",
            "_view_count": null,
            "_view_module": "@jupyter-widgets/base",
            "_view_module_version": "1.2.0",
            "_view_name": "LayoutView",
            "align_content": null,
            "align_items": null,
            "align_self": null,
            "border": null,
            "bottom": null,
            "display": null,
            "flex": null,
            "flex_flow": null,
            "grid_area": null,
            "grid_auto_columns": null,
            "grid_auto_flow": null,
            "grid_auto_rows": null,
            "grid_column": null,
            "grid_gap": null,
            "grid_row": null,
            "grid_template_areas": null,
            "grid_template_columns": null,
            "grid_template_rows": null,
            "height": null,
            "justify_content": null,
            "justify_items": null,
            "left": null,
            "margin": null,
            "max_height": null,
            "max_width": null,
            "min_height": null,
            "min_width": null,
            "object_fit": null,
            "object_position": null,
            "order": null,
            "overflow": null,
            "overflow_x": null,
            "overflow_y": null,
            "padding": null,
            "right": null,
            "top": null,
            "visibility": null,
            "width": null
          }
        },
        "1d62121faa7641138eac14a1ee0d8dcf": {
          "model_module": "@jupyter-widgets/base",
          "model_name": "LayoutModel",
          "model_module_version": "1.2.0",
          "state": {
            "_model_module": "@jupyter-widgets/base",
            "_model_module_version": "1.2.0",
            "_model_name": "LayoutModel",
            "_view_count": null,
            "_view_module": "@jupyter-widgets/base",
            "_view_module_version": "1.2.0",
            "_view_name": "LayoutView",
            "align_content": null,
            "align_items": null,
            "align_self": null,
            "border": null,
            "bottom": null,
            "display": null,
            "flex": null,
            "flex_flow": null,
            "grid_area": null,
            "grid_auto_columns": null,
            "grid_auto_flow": null,
            "grid_auto_rows": null,
            "grid_column": null,
            "grid_gap": null,
            "grid_row": null,
            "grid_template_areas": null,
            "grid_template_columns": null,
            "grid_template_rows": null,
            "height": null,
            "justify_content": null,
            "justify_items": null,
            "left": null,
            "margin": null,
            "max_height": null,
            "max_width": null,
            "min_height": null,
            "min_width": null,
            "object_fit": null,
            "object_position": null,
            "order": null,
            "overflow": null,
            "overflow_x": null,
            "overflow_y": null,
            "padding": null,
            "right": null,
            "top": null,
            "visibility": null,
            "width": null
          }
        },
        "767c66747348436b93dd68be458f514b": {
          "model_module": "@jupyter-widgets/controls",
          "model_name": "DescriptionStyleModel",
          "model_module_version": "1.5.0",
          "state": {
            "_model_module": "@jupyter-widgets/controls",
            "_model_module_version": "1.5.0",
            "_model_name": "DescriptionStyleModel",
            "_view_count": null,
            "_view_module": "@jupyter-widgets/base",
            "_view_module_version": "1.2.0",
            "_view_name": "StyleView",
            "description_width": ""
          }
        },
        "e0f534b5c3f545528133d533840f7351": {
          "model_module": "@jupyter-widgets/base",
          "model_name": "LayoutModel",
          "model_module_version": "1.2.0",
          "state": {
            "_model_module": "@jupyter-widgets/base",
            "_model_module_version": "1.2.0",
            "_model_name": "LayoutModel",
            "_view_count": null,
            "_view_module": "@jupyter-widgets/base",
            "_view_module_version": "1.2.0",
            "_view_name": "LayoutView",
            "align_content": null,
            "align_items": null,
            "align_self": null,
            "border": null,
            "bottom": null,
            "display": null,
            "flex": null,
            "flex_flow": null,
            "grid_area": null,
            "grid_auto_columns": null,
            "grid_auto_flow": null,
            "grid_auto_rows": null,
            "grid_column": null,
            "grid_gap": null,
            "grid_row": null,
            "grid_template_areas": null,
            "grid_template_columns": null,
            "grid_template_rows": null,
            "height": null,
            "justify_content": null,
            "justify_items": null,
            "left": null,
            "margin": null,
            "max_height": null,
            "max_width": null,
            "min_height": null,
            "min_width": null,
            "object_fit": null,
            "object_position": null,
            "order": null,
            "overflow": null,
            "overflow_x": null,
            "overflow_y": null,
            "padding": null,
            "right": null,
            "top": null,
            "visibility": null,
            "width": null
          }
        },
        "42619a0968be46189df2f4da623d89e0": {
          "model_module": "@jupyter-widgets/controls",
          "model_name": "ProgressStyleModel",
          "model_module_version": "1.5.0",
          "state": {
            "_model_module": "@jupyter-widgets/controls",
            "_model_module_version": "1.5.0",
            "_model_name": "ProgressStyleModel",
            "_view_count": null,
            "_view_module": "@jupyter-widgets/base",
            "_view_module_version": "1.2.0",
            "_view_name": "StyleView",
            "bar_color": null,
            "description_width": ""
          }
        }
      }
    }
  },
  "cells": [
    {
      "cell_type": "markdown",
      "source": [
        "\n",
        "<a href=\"https://colab.research.google.com/github/terrematte/mlops_wandb/blob/main/lesson_sentiment_analysis/02_EDA.ipynb\" target=\"_parent\"><img src=\"https://colab.research.google.com/assets/colab-badge.svg\" alt=\"Open In Colab\"/></a>"
      ],
      "metadata": {
        "id": "b7qNLKbqPYVT"
      }
    },
    {
      "cell_type": "markdown",
      "source": [
        "# Exploratory Data Analysis (EDA) of Text Data for Sentiment Analysis\n"
      ],
      "metadata": {
        "id": "HtlySbWoS644"
      }
    },
    {
      "cell_type": "markdown",
      "source": [
        "\n",
        "In this Exploratory Data Analysis (EDA), we delve into a dataset comprising text files categorized into positive and negative sentiments, aimed at understanding its structure and characteristics before proceeding with sentiment analysis tasks. The dataset is housed in a Weights & Biases (wandb) artifact under the project **`my_user/sentiment_analysis`**, with the artifact name **`txt_sentoken:v0`**.\n",
        "\n",
        "The dataset is organized into two subfolders, **`pos`** and **`neg`**, each containing 1,000 text files representing positive and negative sentiments respectively.\n"
      ],
      "metadata": {
        "id": "VjcubDYzS-E6"
      }
    },
    {
      "cell_type": "markdown",
      "source": [
        "\n",
        "**1. Data Overview:**\n",
        "   - **File Count:** We first verify the count of files in each subfolder to ensure there are indeed 1,000 files in both `pos` and `neg` subfolders.\n",
        "   - **File Size Analysis:** We analyze the size of the files (in bytes) to understand the variation in text length across positive and negative sentiments.\n",
        "\n",
        "**2. File Size Distribution:**\n",
        "   - A histogram is generated to visualize the distribution of file sizes in both `pos` and `neg` subfolders. This aids in understanding the spread and central tendency of text lengths in our dataset.\n",
        "\n",
        "The EDA is performed using a Python script, which:\n",
        "   - Initializes a wandb run to log the analysis results and visualizations.\n",
        "   - Fetches the artifact from wandb and downloads its content to the local directory.\n",
        "   - Iterates through each subfolder to count the number of files and collect file size data.\n",
        "   - Logs the file count information to wandb.\n",
        "   - Creates and saves a histogram of file sizes, which is also logged to wandb.\n",
        "\n",
        "This preliminary analysis provides insights into the basic characteristics of the dataset, setting the stage for further analyses and preprocessing steps necessary for subsequent sentiment analysis tasks. Logging the analysis results and visualizations to wandb ensures a traceable and reproducible data science workflow."
      ],
      "metadata": {
        "id": "UkJ_KejvTISs"
      }
    },
    {
      "cell_type": "markdown",
      "source": [
        "## Install and load libraries"
      ],
      "metadata": {
        "id": "nW-xyxepTOTl"
      }
    },
    {
      "cell_type": "code",
      "source": [
        "!pip install wandb"
      ],
      "metadata": {
        "id": "HD763edrTXPd",
        "colab": {
          "base_uri": "https://localhost:8080/"
        },
        "outputId": "88dbfdfa-e4a0-40b8-e4ff-4245230efd37"
      },
      "execution_count": null,
      "outputs": [
        {
          "output_type": "stream",
          "name": "stdout",
          "text": [
            "Requirement already satisfied: wandb in /usr/local/lib/python3.10/dist-packages (0.18.7)\n",
            "Requirement already satisfied: click!=8.0.0,>=7.1 in /usr/local/lib/python3.10/dist-packages (from wandb) (8.1.7)\n",
            "Requirement already satisfied: docker-pycreds>=0.4.0 in /usr/local/lib/python3.10/dist-packages (from wandb) (0.4.0)\n",
            "Requirement already satisfied: gitpython!=3.1.29,>=1.0.0 in /usr/local/lib/python3.10/dist-packages (from wandb) (3.1.43)\n",
            "Requirement already satisfied: platformdirs in /usr/local/lib/python3.10/dist-packages (from wandb) (4.3.6)\n",
            "Requirement already satisfied: protobuf!=4.21.0,!=5.28.0,<6,>=3.19.0 in /usr/local/lib/python3.10/dist-packages (from wandb) (4.25.5)\n",
            "Requirement already satisfied: psutil>=5.0.0 in /usr/local/lib/python3.10/dist-packages (from wandb) (5.9.5)\n",
            "Requirement already satisfied: pyyaml in /usr/local/lib/python3.10/dist-packages (from wandb) (6.0.2)\n",
            "Requirement already satisfied: requests<3,>=2.0.0 in /usr/local/lib/python3.10/dist-packages (from wandb) (2.32.3)\n",
            "Requirement already satisfied: sentry-sdk>=2.0.0 in /usr/local/lib/python3.10/dist-packages (from wandb) (2.18.0)\n",
            "Requirement already satisfied: setproctitle in /usr/local/lib/python3.10/dist-packages (from wandb) (1.3.4)\n",
            "Requirement already satisfied: setuptools in /usr/local/lib/python3.10/dist-packages (from wandb) (75.1.0)\n",
            "Requirement already satisfied: typing-extensions<5,>=4.4 in /usr/local/lib/python3.10/dist-packages (from wandb) (4.12.2)\n",
            "Requirement already satisfied: six>=1.4.0 in /usr/local/lib/python3.10/dist-packages (from docker-pycreds>=0.4.0->wandb) (1.16.0)\n",
            "Requirement already satisfied: gitdb<5,>=4.0.1 in /usr/local/lib/python3.10/dist-packages (from gitpython!=3.1.29,>=1.0.0->wandb) (4.0.11)\n",
            "Requirement already satisfied: charset-normalizer<4,>=2 in /usr/local/lib/python3.10/dist-packages (from requests<3,>=2.0.0->wandb) (3.4.0)\n",
            "Requirement already satisfied: idna<4,>=2.5 in /usr/local/lib/python3.10/dist-packages (from requests<3,>=2.0.0->wandb) (3.10)\n",
            "Requirement already satisfied: urllib3<3,>=1.21.1 in /usr/local/lib/python3.10/dist-packages (from requests<3,>=2.0.0->wandb) (2.2.3)\n",
            "Requirement already satisfied: certifi>=2017.4.17 in /usr/local/lib/python3.10/dist-packages (from requests<3,>=2.0.0->wandb) (2024.8.30)\n",
            "Requirement already satisfied: smmap<6,>=3.0.1 in /usr/local/lib/python3.10/dist-packages (from gitdb<5,>=4.0.1->gitpython!=3.1.29,>=1.0.0->wandb) (5.0.1)\n"
          ]
        }
      ]
    },
    {
      "cell_type": "code",
      "source": [
        "# Login to Weights & Biases\n",
        "!wandb login --relogin"
      ],
      "metadata": {
        "id": "W7nwhVY5Ti1M",
        "colab": {
          "base_uri": "https://localhost:8080/"
        },
        "outputId": "19772f59-a3f1-457b-b91e-fb1562e73dd5"
      },
      "execution_count": null,
      "outputs": [
        {
          "output_type": "stream",
          "name": "stdout",
          "text": [
            "\u001b[34m\u001b[1mwandb\u001b[0m: Logging into wandb.ai. (Learn how to deploy a W&B server locally: https://wandb.me/wandb-server)\n",
            "\u001b[34m\u001b[1mwandb\u001b[0m: You can find your API key in your browser here: https://wandb.ai/authorize\n",
            "\u001b[34m\u001b[1mwandb\u001b[0m: Paste an API key from your profile and hit enter, or press ctrl+c to quit: \n",
            "\u001b[34m\u001b[1mwandb\u001b[0m: Appending key for api.wandb.ai to your netrc file: /root/.netrc\n"
          ]
        }
      ]
    },
    {
      "cell_type": "code",
      "execution_count": null,
      "metadata": {
        "id": "82UMcxeKQzxm"
      },
      "outputs": [],
      "source": [
        "import os\n",
        "import matplotlib.pyplot as plt\n",
        "import wandb"
      ]
    },
    {
      "cell_type": "markdown",
      "source": [
        "## Download sentiment analysis data artifact from Wandb"
      ],
      "metadata": {
        "id": "NIjeHIPGT5oK"
      }
    },
    {
      "cell_type": "code",
      "source": [
        "# Initialize wandb run\n",
        "wandb.init(project='sentiment_analysis', save_code=True)\n",
        "\n",
        "# Get the artifact\n",
        "artifact = wandb.use_artifact('txt_sentoken:v0')\n",
        "\n",
        "# Download the content of the artifact to the local directory\n",
        "artifact_dir = artifact.download()"
      ],
      "metadata": {
        "id": "UOiDxaaJTpBw",
        "colab": {
          "base_uri": "https://localhost:8080/",
          "height": 157
        },
        "outputId": "7f834e06-8aae-4da6-991e-659c5f18e622"
      },
      "execution_count": null,
      "outputs": [
        {
          "output_type": "stream",
          "name": "stderr",
          "text": [
            "\u001b[34m\u001b[1mwandb\u001b[0m: Using wandb-core as the SDK backend.  Please refer to https://wandb.me/wandb-core for more information.\n",
            "\u001b[34m\u001b[1mwandb\u001b[0m: Currently logged in as: \u001b[33mterrematte\u001b[0m. Use \u001b[1m`wandb login --relogin`\u001b[0m to force relogin\n"
          ]
        },
        {
          "output_type": "display_data",
          "data": {
            "text/plain": [
              "<IPython.core.display.HTML object>"
            ],
            "text/html": [
              "Tracking run with wandb version 0.18.7"
            ]
          },
          "metadata": {}
        },
        {
          "output_type": "display_data",
          "data": {
            "text/plain": [
              "<IPython.core.display.HTML object>"
            ],
            "text/html": [
              "Run data is saved locally in <code>/content/wandb/run-20241126_021516-tvhxid97</code>"
            ]
          },
          "metadata": {}
        },
        {
          "output_type": "display_data",
          "data": {
            "text/plain": [
              "<IPython.core.display.HTML object>"
            ],
            "text/html": [
              "Syncing run <strong><a href='https://wandb.ai/terrematte/sentiment_analysis/runs/tvhxid97' target=\"_blank\">smooth-cherry-6</a></strong> to <a href='https://wandb.ai/terrematte/sentiment_analysis' target=\"_blank\">Weights & Biases</a> (<a href='https://wandb.me/developer-guide' target=\"_blank\">docs</a>)<br/>"
            ]
          },
          "metadata": {}
        },
        {
          "output_type": "display_data",
          "data": {
            "text/plain": [
              "<IPython.core.display.HTML object>"
            ],
            "text/html": [
              " View project at <a href='https://wandb.ai/terrematte/sentiment_analysis' target=\"_blank\">https://wandb.ai/terrematte/sentiment_analysis</a>"
            ]
          },
          "metadata": {}
        },
        {
          "output_type": "display_data",
          "data": {
            "text/plain": [
              "<IPython.core.display.HTML object>"
            ],
            "text/html": [
              " View run at <a href='https://wandb.ai/terrematte/sentiment_analysis/runs/tvhxid97' target=\"_blank\">https://wandb.ai/terrematte/sentiment_analysis/runs/tvhxid97</a>"
            ]
          },
          "metadata": {}
        },
        {
          "output_type": "stream",
          "name": "stderr",
          "text": [
            "\u001b[34m\u001b[1mwandb\u001b[0m:   2000 of 2000 files downloaded.  \n"
          ]
        }
      ]
    },
    {
      "cell_type": "code",
      "source": [
        "# Subfolders 'pos' and 'neg'\n",
        "subfolders = ['pos', 'neg']\n",
        "\n",
        "# Initialize lists to store results\n",
        "file_counts = []\n",
        "file_sizes = {'pos': [], 'neg': []}\n",
        "\n",
        "# Iterate over each subfolder\n",
        "for subfolder in subfolders:\n",
        "    # Full path to the subfolder\n",
        "    subfolder_path = os.path.join(artifact_dir, subfolder)\n",
        "\n",
        "    # Get the list of files in the subfolder\n",
        "    files = os.listdir(subfolder_path)\n",
        "\n",
        "    # Add the file count to the list\n",
        "    file_counts.append(len(files))\n",
        "\n",
        "    # Get and store the size of each file\n",
        "    for file in files:\n",
        "        file_path = os.path.join(subfolder_path, file)\n",
        "        file_size = os.path.getsize(file_path)  # size in bytes\n",
        "        file_sizes[subfolder].append(file_size)\n",
        "\n",
        "# Log the file counts to wandb\n",
        "for subfolder, count in zip(subfolders, file_counts):\n",
        "    wandb.log({f'Number of files in {subfolder}': count})"
      ],
      "metadata": {
        "id": "icjEt88BUCv9"
      },
      "execution_count": null,
      "outputs": []
    },
    {
      "cell_type": "code",
      "source": [
        "# Histogram of file sizes\n",
        "plt.figure(figsize=(10, 5))\n",
        "plt.hist(file_sizes['pos'], bins=30, alpha=0.5, label='Positive Texts')\n",
        "plt.hist(file_sizes['neg'], bins=30, alpha=0.5, label='Negative Texts')\n",
        "plt.xlabel('File Size (bytes)')\n",
        "plt.ylabel('Frequency')\n",
        "plt.legend(loc='upper right')\n",
        "plt.title('Distribution of File Sizes')\n",
        "plt.savefig('file_size_distribution.png')  # Save the plot to a file\n",
        "plt.show()\n",
        "plt.close()\n",
        "\n",
        "# Log the histogram image to wandb\n",
        "wandb.log({\"File Size Distribution\": wandb.Image('file_size_distribution.png')})"
      ],
      "metadata": {
        "id": "2UdQyiWPlHb0",
        "colab": {
          "base_uri": "https://localhost:8080/",
          "height": 487
        },
        "outputId": "30cf9493-17b9-4a85-9dcb-ac5e4c3ae2fb"
      },
      "execution_count": null,
      "outputs": [
        {
          "output_type": "display_data",
          "data": {
            "text/plain": [
              "<Figure size 1000x500 with 1 Axes>"
            ],
            "image/png": "[encoded data removed]"
          },
          "metadata": {}
        }
      ]
    },
    {
      "cell_type": "code",
      "source": [
        "# Optionally, finish the wandb run (if this is the end of your script)\n",
        "wandb.finish()"
      ],
      "metadata": {
        "id": "lj6ZPwUUlOyj",
        "colab": {
          "base_uri": "https://localhost:8080/",
          "height": 192,
          "referenced_widgets": [
            "af640286eec14a919218e82a567c1ce1",
            "68805d0d3b404ef0984a5fbf096ad02f",
            "72ec74beb9094b7983dc5a7b918e1854",
            "4930b2ddbfd040d280a0e2a66b92047f",
            "1d62121faa7641138eac14a1ee0d8dcf",
            "767c66747348436b93dd68be458f514b",
            "e0f534b5c3f545528133d533840f7351",
            "42619a0968be46189df2f4da623d89e0"
          ]
        },
        "outputId": "7fbd545a-992b-40c6-ad00-94867c08390f"
      },
      "execution_count": null,
      "outputs": [
        {
          "output_type": "display_data",
          "data": {
            "text/plain": [
              "VBox(children=(Label(value='0.171 MB of 0.171 MB uploaded\\r'), FloatProgress(value=1.0, max=1.0)))"
            ],
            "application/vnd.jupyter.widget-view+json": {
              "version_major": 2,
              "version_minor": 0,
              "model_id": "af640286eec14a919218e82a567c1ce1"
            }
          },
          "metadata": {}
        },
        {
          "output_type": "display_data",
          "data": {
            "text/plain": [
              "<IPython.core.display.HTML object>"
            ],
            "text/html": [
              "\n",
              "    <style>\n",
              "        .wandb-row {\n",
              "            display: flex;\n",
              "            flex-direction: row;\n",
              "            flex-wrap: wrap;\n",
              "            justify-content: flex-start;\n",
              "            width: 100%;\n",
              "        }\n",
              "        .wandb-col {\n",
              "            display: flex;\n",
              "            flex-direction: column;\n",
              "            flex-basis: 100%;\n",
              "            flex: 1;\n",
              "            padding: 10px;\n",
              "        }\n",
              "    </style>\n",
              "<div class=\"wandb-row\"><div class=\"wandb-col\"><h3>Run history:</h3><br/><table class=\"wandb\"><tr><td>Number of files in neg</td><td>▁</td></tr><tr><td>Number of files in pos</td><td>▁</td></tr></table><br/></div><div class=\"wandb-col\"><h3>Run summary:</h3><br/><table class=\"wandb\"><tr><td>Number of files in neg</td><td>1000</td></tr><tr><td>Number of files in pos</td><td>1000</td></tr></table><br/></div></div>"
            ]
          },
          "metadata": {}
        },
        {
          "output_type": "display_data",
          "data": {
            "text/plain": [
              "<IPython.core.display.HTML object>"
            ],
            "text/html": [
              " View run <strong style=\"color:#cdcd00\">smooth-cherry-6</strong> at: <a href='https://wandb.ai/terrematte/sentiment_analysis/runs/tvhxid97' target=\"_blank\">https://wandb.ai/terrematte/sentiment_analysis/runs/tvhxid97</a><br/> View project at: <a href='https://wandb.ai/terrematte/sentiment_analysis' target=\"_blank\">https://wandb.ai/terrematte/sentiment_analysis</a><br/>Synced 4 W&B file(s), 0 media file(s), 12 artifact file(s) and 1 other file(s)"
            ]
          },
          "metadata": {}
        },
        {
          "output_type": "display_data",
          "data": {
            "text/plain": [
              "<IPython.core.display.HTML object>"
            ],
            "text/html": [
              "Find logs at: <code>./wandb/run-20241126_021516-tvhxid97/logs</code>"
            ]
          },
          "metadata": {}
        }
      ]
    },
    {
      "cell_type": "markdown",
      "source": [
        "## Reference:\n",
        "\n",
        "Analysis implemented and available at https://github.com/ivanovitchm/mlops/tree/main/lessons/week_09"
      ],
      "metadata": {
        "id": "rJEbxCt-v2v9"
      }
    }
  ]
}